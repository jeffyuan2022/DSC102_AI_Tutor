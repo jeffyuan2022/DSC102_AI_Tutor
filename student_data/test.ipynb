{
 "cells": [
  {
   "cell_type": "code",
   "execution_count": 8,
   "metadata": {},
   "outputs": [],
   "source": [
    "import ast\n",
    "import re\n",
    "test = \"\"\"\n",
    "```\n",
    "python\n",
    "[\n",
    "    (\"1. What is the role of the processor in a computer hardware system?\", \"The processor, or CPU, is the brain of the computer, responsible for executing instructions, performing calculations, and managing tasks to process data and run programs.\", 1, \"The processor, or CPU, is the brain of the computer, responsible for executing instructions, performing calculations, and managing tasks to process data and run programs.\"), \n",
    "    (\"2. In software terminology, what is an API?\", \"IDK\", 0, \"An API, or Application Programming Interface, is a set of rules and protocols for building and interacting with software applications.\"), \n",
    "    (\"3. Which type of program is responsible for enabling application software to easily interact with hardware?\", \"1\", 0, \"A device driver is responsible for enabling application software to interact with hardware.\"), \n",
    "    (\"4. What is the difference between main memory (DRAM) and a disk in terms of data storage?\", \"0\", 0, \"Main memory (DRAM) is volatile and used for temporary data storage while a computer is running, whereas a disk (like an HDD or SSD) is non-volatile and used for permanent data storage.\"), \n",
    "    (\"5. How many unique data items can be represented with 'k' bits?\", \"empty\", 0, \"With 'k' bits, you can represent 2^k unique data items.\")\n",
    "]\n",
    "```\n",
    "\"\"\""
   ]
  },
  {
   "cell_type": "code",
   "execution_count": 9,
   "metadata": {},
   "outputs": [
    {
     "name": "stdout",
     "output_type": "stream",
     "text": [
      "[\n",
      "    (\"1. What is the role of the processor in a computer hardware system?\", \"The processor, or CPU, is the brain of the computer, responsible for executing instructions, performing calculations, and managing tasks to process data and run programs.\", 1, \"The processor, or CPU, is the brain of the computer, responsible for executing instructions, performing calculations, and managing tasks to process data and run programs.\"), \n",
      "    (\"2. In software terminology, what is an API?\", \"IDK\", 0, \"An API, or Application Programming Interface, is a set of rules and protocols for building and interacting with software applications.\"), \n",
      "    (\"3. Which type of program is responsible for enabling application software to easily interact with hardware?\", \"1\", 0, \"A device driver is responsible for enabling application software to interact with hardware.\"), \n",
      "    (\"4. What is the difference between main memory (DRAM) and a disk in terms of data storage?\", \"0\", 0, \"Main memory (DRAM) is volatile and used for temporary data storage while a computer is running, whereas a disk (like an HDD or SSD) is non-volatile and used for permanent data storage.\"), \n",
      "    (\"5. How many unique data items can be represented with 'k' bits?\", \"empty\", 0, \"With 'k' bits, you can represent 2^k unique data items.\")\n",
      "]\n"
     ]
    }
   ],
   "source": [
    "match = re.search(r\"\\[.*\\]\", test, re.DOTALL)\n",
    "if match:\n",
    "    extracted_content = match.group(0)\n",
    "    print(extracted_content)"
   ]
  },
  {
   "cell_type": "code",
   "execution_count": 10,
   "metadata": {},
   "outputs": [
    {
     "name": "stdout",
     "output_type": "stream",
     "text": [
      "[('1. What is the role of the processor in a computer hardware system?', 'The processor, or CPU, is the brain of the computer, responsible for executing instructions, performing calculations, and managing tasks to process data and run programs.', 1, 'The processor, or CPU, is the brain of the computer, responsible for executing instructions, performing calculations, and managing tasks to process data and run programs.'), ('2. In software terminology, what is an API?', 'IDK', 0, 'An API, or Application Programming Interface, is a set of rules and protocols for building and interacting with software applications.'), ('3. Which type of program is responsible for enabling application software to easily interact with hardware?', '1', 0, 'A device driver is responsible for enabling application software to interact with hardware.'), ('4. What is the difference between main memory (DRAM) and a disk in terms of data storage?', '0', 0, 'Main memory (DRAM) is volatile and used for temporary data storage while a computer is running, whereas a disk (like an HDD or SSD) is non-volatile and used for permanent data storage.'), (\"5. How many unique data items can be represented with 'k' bits?\", 'empty', 0, \"With 'k' bits, you can represent 2^k unique data items.\")]\n"
     ]
    }
   ],
   "source": [
    "print(ast.literal_eval(extracted_content))"
   ]
  }
 ],
 "metadata": {
  "kernelspec": {
   "display_name": "Python 3",
   "language": "python",
   "name": "python3"
  },
  "language_info": {
   "codemirror_mode": {
    "name": "ipython",
    "version": 3
   },
   "file_extension": ".py",
   "mimetype": "text/x-python",
   "name": "python",
   "nbconvert_exporter": "python",
   "pygments_lexer": "ipython3",
   "version": "3.12.7"
  }
 },
 "nbformat": 4,
 "nbformat_minor": 2
}
